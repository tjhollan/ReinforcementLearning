{
 "cells": [
  {
   "cell_type": "markdown",
   "metadata": {},
   "source": [
    "# A Neural Network class\n"
   ]
  },
  {
   "cell_type": "markdown",
   "metadata": {},
   "source": [
    "## List of tensorflow activation function string aliases"
   ]
  },
  {
   "cell_type": "markdown",
   "metadata": {},
   "source": [
    "- `softmax`\n",
    "- `relu`\n",
    "- `elu`\n",
    "- `tanh`\n",
    "- `sigmoid`\n",
    "- `hard_sigmoid`\n",
    "- `linear`\n",
    "- `softplus`\n",
    "- `softsign`\n",
    "- `selu` \n",
    "- `gelu` \n",
    "- `relu6`"
   ]
  },
  {
   "cell_type": "markdown",
   "metadata": {},
   "source": [
    "## Class definition"
   ]
  },
  {
   "cell_type": "code",
   "execution_count": 1,
   "metadata": {},
   "outputs": [
    {
     "name": "stdout",
     "output_type": "stream",
     "text": [
      "Overwriting neuralnetworks.py\n"
     ]
    }
   ],
   "source": [
    "%%writefile neuralnetworks.py\n",
    "from tensorflow.keras import models, layers, optimizers, backend as K\n",
    "import numpy as np\n",
    "\n",
    "##########################\n",
    "#  Neural Network Class  #\n",
    "##########################\n",
    "\n",
    "class NeuralNetwork():\n",
    "\n",
    "    def __init__(self, n_inputs, n_hiddens_per_layer, n_outputs, activation_function='tanh', drop=False):\n",
    "        inputs = layers.Input(name=\"input\", shape=(n_inputs,))\n",
    "        hidden_layers = self._create_hidden_layers(n_hiddens_per_layer, inputs, activation_function, drop)\n",
    "        outputs = layers.Dense(name=\"output\", units=n_outputs, activation='linear')(hidden_layers)\n",
    "        self.model = models.Model(inputs=inputs, outputs=outputs, name=\"DeepNN\")\n",
    "\n",
    "    def _create_hidden_layers(self, n_hiddens_per_layer, input_layer, activation_function, drop):\n",
    "        count = 0\n",
    "        previous_layer = input_layer\n",
    "        for size_of_hidden_layer in n_hiddens_per_layer:\n",
    "            count += 1\n",
    "            layer_name = f\"hidden{count:03}\"\n",
    "            previous_layer = layers.Dense(name=layer_name, units=size_of_hidden_layer, activation=activation_function)(previous_layer)\n",
    "            if drop:\n",
    "                drop_name = f\"drop{count:03}\"\n",
    "                previous_layer = layers.Dropout(name=drop_name, rate=0.1)(previous_layer)\n",
    "        return previous_layer\n",
    "\n",
    "    def R_squared(self, y, y_hat):\n",
    "        ss_res =  K.sum(K.square(y - y_hat)) \n",
    "        ss_tot = K.sum(K.square(y - K.mean(y))) \n",
    "        return ( 1 - ss_res/(ss_tot + K.epsilon()) )\n",
    "\n",
    "    def train(self, X, T, n_epochs, learning_rate=0.001, method='adam', verbose=False):\n",
    "        if method == 'adam':\n",
    "            optimizer = optimizers.Adam(learning_rate=learning_rate)\n",
    "        else:\n",
    "            optimizer = method\n",
    "        self.model.compile(optimizer=optimizer, loss='mean_absolute_error', metrics=[self.R_squared])\n",
    "        verbose_number = 0 if not verbose else 1\n",
    "        \n",
    "        self.model.fit(x=X, y=T, epochs=n_epochs, batch_size=None, shuffle=True, verbose=verbose_number, validation_split=0.0)\n",
    "        return self\n",
    "        \n",
    "    def use(self, X):\n",
    "        return self.model(X, training=False)"
   ]
  },
  {
   "cell_type": "markdown",
   "metadata": {},
   "source": [
    "## Test usages"
   ]
  },
  {
   "cell_type": "code",
   "execution_count": 2,
   "metadata": {},
   "outputs": [],
   "source": [
    "import neuralnetworks as nn\n",
    "import numpy as np\n",
    "\n",
    "def test_neuralnetwork_linspace(verbose=False):\n",
    "    np.random.seed(42)\n",
    "        \n",
    "    n_samples = 10000\n",
    "    X = np.linspace(0, 10, n_samples).reshape((-1, 1))\n",
    "    T = X ** 2\n",
    "\n",
    "    n_samples, n_inputs = X.shape \n",
    "    n_outputs = T.shape[1]\n",
    "    n_hiddens = [100, 100]\n",
    "\n",
    "    print(f\"Inputs: {n_inputs}, Hiddens: {n_hiddens}, Outputs: {n_outputs}\")\n",
    "    print(f\"Input shape: {X.shape}, Output shape: {T.shape}\")\n",
    "    \n",
    "    net = nn.NeuralNetwork(n_inputs, n_hiddens, n_outputs, activation_function='relu')\n",
    "    print(net.model.summary())\n",
    "    net.train(X, T, 50, 0.01, verbose=verbose)\n",
    "    Y = net.use(X)\n",
    "\n",
    "    def rmse(Y, T):\n",
    "        return np.sqrt(np.mean((T - Y)**2))\n",
    "\n",
    "    print(f'RMSE {rmse(Y, T):.3f}')"
   ]
  },
  {
   "cell_type": "code",
   "execution_count": null,
   "metadata": {},
   "outputs": [],
   "source": [
    "test_neuralnetwork_linspace()"
   ]
  },
  {
   "cell_type": "code",
   "execution_count": null,
   "metadata": {},
   "outputs": [],
   "source": [
    "test_neuralnetwork_linspace(True)"
   ]
  },
  {
   "cell_type": "code",
   "execution_count": null,
   "metadata": {},
   "outputs": [],
   "source": [
    "\n",
    "def test_neuralnetwork_for_tictactoe(verbose=False):\n",
    "    np.random.seed(42)\n",
    "\n",
    "    X = []\n",
    "    T = []\n",
    "    X = X.append(np.array([0] * 10).reshape(-1,1))\n",
    "    T = T.append(np.array([0]).reshape(-1,1))\n",
    "    \n",
    "    n_inputs = X.shape[1]\n",
    "    n_outputs = T.shape[1]\n",
    "\n",
    "    n_hiddens = [100, 100]\n",
    "    print(f\"Inputs: {n_inputs}, Hiddens: {n_hiddens}, Outputs: {n_outputs}\")\n",
    "    print(f\"Input shape: {X.shape}, Output shape: {T.shape}\")\n",
    "    net = nn.NeuralNetwork(n_inputs, n_hiddens, n_outputs, activation_function='relu')\n",
    "    print(net.model.summary())\n",
    "    net.train(X, T, 50, 0.01, verbose=verbose)\n",
    "    Y = net.use(X)\n",
    "\n",
    "    def rmse(Y, T):\n",
    "        return np.sqrt(np.mean((T - Y)**2))\n",
    "\n",
    "    print(f'RMSE {rmse(Y, T):.3f}')"
   ]
  },
  {
   "cell_type": "code",
   "execution_count": null,
   "metadata": {},
   "outputs": [],
   "source": [
    "test_neuralnetwork_for_tictactoe()"
   ]
  }
 ],
 "metadata": {
  "kernelspec": {
   "display_name": "Python 3.9.13 64-bit",
   "language": "python",
   "name": "python3"
  },
  "language_info": {
   "codemirror_mode": {
    "name": "ipython",
    "version": 3
   },
   "file_extension": ".py",
   "mimetype": "text/x-python",
   "name": "python",
   "nbconvert_exporter": "python",
   "pygments_lexer": "ipython3",
   "version": "3.9.13"
  },
  "orig_nbformat": 4,
  "vscode": {
   "interpreter": {
    "hash": "8e284ee3255a07ad8bf76694974743c4c81cb57e7c969474d752d949b11d721e"
   }
  }
 },
 "nbformat": 4,
 "nbformat_minor": 2
}
