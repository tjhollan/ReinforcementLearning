{
 "cells": [
  {
   "cell_type": "markdown",
   "metadata": {},
   "source": [
    "# Test the checkers game class"
   ]
  },
  {
   "cell_type": "markdown",
   "metadata": {},
   "source": [
    "## Export the class to a file"
   ]
  },
  {
   "cell_type": "code",
   "execution_count": 18,
   "metadata": {},
   "outputs": [
    {
     "name": "stdout",
     "output_type": "stream",
     "text": [
      "Overwriting checkers.py\n"
     ]
    }
   ],
   "source": [
    "%%writefile checkers.py\n",
    "import numpy as np\n",
    "import copy\n",
    "\n",
    "#########################\n",
    "#  Checkers game board  #\n",
    "#########################\n",
    "\n",
    "class Game():\n",
    "\n",
    "    def __init__(self):\n",
    "        self.empty_space = 0\n",
    "        self.players = ['R', 'B']\n",
    "        # Normal tokens are valued at 1 and -1, kings are 2 and -2\n",
    "        self.token_values = {'R': 1, 'B': -1, 'RK': 2, 'BK': -2}\n",
    "        self.tokens = {1: 'R', -1:'B', 2: 'RK', -2:'BK', self.empty_space: '  '}\n",
    "        self.adjacency_dict = self.build_adjacency_dict(self.valid_spaces())\n",
    "        self.reset_game()\n",
    "\n",
    "    def build_adjacency_dict(self, val_spaces):\n",
    "        adj_dict = {}\n",
    "        for spot in val_spaces:\n",
    "            adj_dict[spot] = []\n",
    "            if spot+7 in val_spaces:\n",
    "                adj_dict[spot].append(spot+7)\n",
    "            if spot+9 in val_spaces:\n",
    "                adj_dict[spot].append(spot+9)\n",
    "            if spot-7 in val_spaces:\n",
    "                adj_dict[spot].append(spot-7)\n",
    "            if spot-9 in val_spaces:\n",
    "                adj_dict[spot].append(spot-9)\n",
    "        return adj_dict\n",
    "\n",
    "    def reset_game(self):\n",
    "        # Sets all board positions to 0\n",
    "        self.gameboard = np.array([self.empty_space] * 64)\n",
    "        # Sets all Red pieces\n",
    "        for i in range(3):\n",
    "            for j in range(1-i%2,8,2):\n",
    "                self.gameboard[i*8+j] = self.token_values[self.players[0]]\n",
    "        # Sets all Black pieces\n",
    "        for i in range(5,8):\n",
    "            for j in range(1-i%2,8,2):\n",
    "                self.gameboard[i*8+j] = self.token_values[self.players[1]]\n",
    "        # Sets the previous player value to empty\n",
    "        self.previous_player = None\n",
    "    \n",
    "    def valid_moves(self, state, player = None):\n",
    "        # Returns a list of valid moves for the player\n",
    "        if player == self.previous_player:\n",
    "            return []\n",
    "        else:\n",
    "            return []\n",
    "    \n",
    "    def valid_spaces(self):\n",
    "        spaces = []\n",
    "        for i in range(8):\n",
    "            for j in range(1-i%2,8,2):\n",
    "                spaces.append(i*8+j)\n",
    "        return spaces\n",
    "       \n",
    "    def make_move(self, move, player):\n",
    "        if move in self.valid_moves(self.gameboard, player):\n",
    "            # Sets the value at the move position to the player value\n",
    "            self.gameboard[move-1] = self.player_values[player]\n",
    "            self.previous_player = player\n",
    "    \n",
    "    def get_game_state(self):\n",
    "        # Returns a copy of the game board\n",
    "        return copy.deepcopy(self.gameboard)\n",
    "\n",
    "    def get_next_player(self):\n",
    "        if self.previous_player is None:\n",
    "            return None\n",
    "        return self.players[0] if self.previous_player == self.players[1] else self.players[1]\n",
    "\n",
    "    def no_more_moves(self):\n",
    "        # Checks for valid moves to make\n",
    "\n",
    "        return False\n",
    "\n",
    "    def victory_condition(self, player):\n",
    "        # Returns true if the player has won the game\n",
    "\n",
    "        return False\n",
    "\n",
    "    def defeat_condition(self, test_player):\n",
    "        # Returns false if the player has lost the game\n",
    "\n",
    "        return False\n",
    "    \n",
    "    def draw_condition(self):\n",
    "        # Checks for draw conditions\n",
    "\n",
    "        return False\n",
    "    \n",
    "    def game_is_over(self):\n",
    "        # The game is over if a player meets a victory condition or there are no more \n",
    "        # valid moves\n",
    "        return self.victory_condition(self.players[0]) or self.victory_condition(self.players[1]) or self.no_more_moves()\n",
    "    \n",
    "    def print_board(self):\n",
    "        print()\n",
    "        print(f\"———————————————————————\")\n",
    "        for i in range(8):\n",
    "            for j in range(7):\n",
    "                print(f\"{self.tokens[self.gameboard[i*8+j]]:2}|\", end=\"\")\n",
    "            print(f\"{self.tokens[self.gameboard[i*8+7]]:2}\")\n",
    "            print(f\"———————————————————————\")\n",
    "        print()\n"
   ]
  },
  {
   "cell_type": "markdown",
   "metadata": {},
   "source": [
    "## Testing"
   ]
  },
  {
   "cell_type": "code",
   "execution_count": 1,
   "metadata": {},
   "outputs": [],
   "source": [
    "import checkers\n",
    "import numpy as np"
   ]
  },
  {
   "cell_type": "markdown",
   "metadata": {},
   "source": [
    "### Initialization tests"
   ]
  },
  {
   "cell_type": "markdown",
   "metadata": {},
   "source": [
    "Test for correct initial board."
   ]
  },
  {
   "cell_type": "code",
   "execution_count": 7,
   "metadata": {},
   "outputs": [],
   "source": [
    "def create_board():\n",
    "    new_board = np.array([0] * 64)\n",
    "    for i in range(3):\n",
    "        for j in range(1-i%2,8,2):\n",
    "            new_board[i*8+j] = 1\n",
    "    for i in range(5,8):\n",
    "        for j in range(1-i%2,8,2):\n",
    "            new_board[i*8+j] = -1\n",
    "    return new_board"
   ]
  },
  {
   "cell_type": "code",
   "execution_count": 8,
   "metadata": {},
   "outputs": [
    {
     "name": "stdout",
     "output_type": "stream",
     "text": [
      "\n",
      "———————————————————————\n",
      "  |R |  |R |  |R |  |R \n",
      "———————————————————————\n",
      "R |  |R |  |R |  |R |  \n",
      "———————————————————————\n",
      "  |R |  |R |  |R |  |R \n",
      "———————————————————————\n",
      "  |  |  |  |  |  |  |  \n",
      "———————————————————————\n",
      "  |  |  |  |  |  |  |  \n",
      "———————————————————————\n",
      "B |  |B |  |B |  |B |  \n",
      "———————————————————————\n",
      "  |B |  |B |  |B |  |B \n",
      "———————————————————————\n",
      "B |  |B |  |B |  |B |  \n",
      "———————————————————————\n",
      "\n"
     ]
    }
   ],
   "source": [
    "game = checkers.Game()\n",
    "start_board = create_board()\n",
    "\n",
    "assert np.array_equal(game.gameboard, start_board)\n",
    "game.print_board()"
   ]
  },
  {
   "cell_type": "markdown",
   "metadata": {},
   "source": [
    "Test for correct number of players and correct token values."
   ]
  },
  {
   "cell_type": "code",
   "execution_count": 3,
   "metadata": {},
   "outputs": [],
   "source": [
    "assert len(game.players) == 2\n",
    "player1 = game.players[0]\n",
    "assert player1 == 'R'\n",
    "player2 = game.players[1]\n",
    "assert player2 == 'B'\n",
    "\n",
    "assert game.empty_space == 0\n",
    "assert game.previous_player == None\n",
    "assert game.valid_moves(game.gameboard) == []\n"
   ]
  },
  {
   "cell_type": "markdown",
   "metadata": {},
   "source": [
    "Test for correct set of spaces a token is allowed to be on."
   ]
  },
  {
   "cell_type": "code",
   "execution_count": 4,
   "metadata": {},
   "outputs": [],
   "source": [
    "def valid_spaces():\n",
    "    spaces = []\n",
    "    for i in range(8):\n",
    "        for j in range(1-i%2,8,2):\n",
    "            spaces.append(i*8+j)\n",
    "    return spaces\n",
    "\n",
    "assert np.array_equal(game.valid_spaces(), valid_spaces())"
   ]
  },
  {
   "cell_type": "markdown",
   "metadata": {},
   "source": [
    "Test that the game state values are correct."
   ]
  },
  {
   "cell_type": "code",
   "execution_count": 5,
   "metadata": {},
   "outputs": [],
   "source": [
    "assert game.get_next_player() == None\n",
    "assert game.no_more_moves() == False\n",
    "assert game.victory_condition(player1) == False\n",
    "assert game.victory_condition(player2) == False\n",
    "assert game.defeat_condition(player1) == False\n",
    "assert game.defeat_condition(player2) == False\n",
    "assert game.draw_condition() == False\n",
    "assert game.game_is_over() == False"
   ]
  },
  {
   "cell_type": "markdown",
   "metadata": {},
   "source": [
    "Test that the adjacency list is correct."
   ]
  },
  {
   "cell_type": "code",
   "execution_count": 6,
   "metadata": {},
   "outputs": [],
   "source": [
    "def build_adj_list(val_spaces):\n",
    "    adj_dict = {}\n",
    "    for spot in val_spaces:\n",
    "        adj_dict[spot] = []\n",
    "        if spot+7 in val_spaces:\n",
    "            adj_dict[spot].append(spot+7)\n",
    "        if spot+9 in val_spaces:\n",
    "            adj_dict[spot].append(spot+9)\n",
    "        if spot-7 in val_spaces:\n",
    "            adj_dict[spot].append(spot-7)\n",
    "        if spot-9 in val_spaces:\n",
    "            adj_dict[spot].append(spot-9)\n",
    "    return adj_dict\n",
    "\n",
    "test_list = build_adj_list(game.valid_spaces())\n",
    "\n",
    "for space in game.valid_spaces():\n",
    "    assert np.array_equal(test_list[space], game.adjacency_dict[space])"
   ]
  },
  {
   "cell_type": "markdown",
   "metadata": {},
   "source": [
    "Test that the valid moves return the correct initial values."
   ]
  },
  {
   "cell_type": "code",
   "execution_count": 15,
   "metadata": {},
   "outputs": [
    {
     "name": "stdout",
     "output_type": "stream",
     "text": [
      "\n",
      "———————————————————————\n",
      "  | 1|  | 3|  | 5|  | 7\n",
      "———————————————————————\n",
      " 8|  |10|  |12|  |14|  \n",
      "———————————————————————\n",
      "  |17|  |19|  |21|  |23\n",
      "———————————————————————\n",
      "24|  |26|  |28|  |30|  \n",
      "———————————————————————\n",
      "  |33|  |35|  |37|  |39\n",
      "———————————————————————\n",
      "40|  |42|  |44|  |46|  \n",
      "———————————————————————\n",
      "  |49|  |51|  |53|  |55\n",
      "———————————————————————\n",
      "56|  |58|  |60|  |62|  \n",
      "———————————————————————\n",
      "\n"
     ]
    }
   ],
   "source": [
    "def print_number_board(valid_list):\n",
    "    print()\n",
    "    print(f\"———————————————————————\")\n",
    "    for i in range(8):\n",
    "        for j in range(7):\n",
    "            num = i*8+j if i*8+j in valid_list else \"\"\n",
    "            print(f\"{num:2}|\", end=\"\")\n",
    "        num = i*8+7 if i*8+7 in valid_list else \"\"\n",
    "        print(f\"{num:2}\")\n",
    "        print(f\"———————————————————————\")\n",
    "    print()\n",
    "\n",
    "print_number_board(game.valid_spaces())"
   ]
  },
  {
   "cell_type": "code",
   "execution_count": 16,
   "metadata": {},
   "outputs": [
    {
     "name": "stdout",
     "output_type": "stream",
     "text": [
      "{1: [8, 10], 3: [10, 12], 5: [12, 14], 7: [14], 8: [17, 1], 10: [17, 19, 3, 1], 12: [19, 21, 5, 3], 14: [21, 23, 7, 5], 17: [24, 26, 10, 8], 19: [26, 28, 12, 10], 21: [28, 30, 14, 12], 23: [30, 14], 24: [33, 17], 26: [33, 35, 19, 17], 28: [35, 37, 21, 19], 30: [37, 39, 23, 21], 33: [40, 42, 26, 24], 35: [42, 44, 28, 26], 37: [44, 46, 30, 28], 39: [46, 30], 40: [49, 33], 42: [49, 51, 35, 33], 44: [51, 53, 37, 35], 46: [53, 55, 39, 37], 49: [56, 58, 42, 40], 51: [58, 60, 44, 42], 53: [60, 62, 46, 44], 55: [62, 46], 56: [49], 58: [51, 49], 60: [53, 51], 62: [55, 53]}\n"
     ]
    }
   ],
   "source": [
    "def build_adj_list(val_spaces):\n",
    "    adj_dict = {}\n",
    "    for spot in val_spaces:\n",
    "        adj_dict[spot] = []\n",
    "        if spot+7 in val_spaces:\n",
    "            adj_dict[spot].append(spot+7)\n",
    "        if spot+9 in val_spaces:\n",
    "            adj_dict[spot].append(spot+9)\n",
    "        if spot-7 in val_spaces:\n",
    "            adj_dict[spot].append(spot-7)\n",
    "        if spot-9 in val_spaces:\n",
    "            adj_dict[spot].append(spot-9)\n",
    "    return adj_dict\n",
    "\n",
    "print(build_adj_list(game.valid_spaces()))"
   ]
  },
  {
   "cell_type": "code",
   "execution_count": 13,
   "metadata": {},
   "outputs": [
    {
     "name": "stdout",
     "output_type": "stream",
     "text": [
      "[1, 3, 5, 7, 8, 10, 12, 14, 17, 19, 21, 23, 24, 26, 28, 30, 33, 35, 37, 39, 40, 42, 44, 46, 49, 51, 53, 55, 56, 58, 60, 62]\n"
     ]
    }
   ],
   "source": [
    "print(game.valid_spaces())"
   ]
  },
  {
   "cell_type": "code",
   "execution_count": 12,
   "metadata": {},
   "outputs": [
    {
     "ename": "AssertionError",
     "evalue": "",
     "output_type": "error",
     "traceback": [
      "\u001b[1;31m---------------------------------------------------------------------------\u001b[0m",
      "\u001b[1;31mAssertionError\u001b[0m                            Traceback (most recent call last)",
      "\u001b[1;32mc:\\Users\\kaosi\\OneDrive\\Documents\\Data\\Learning Projects\\Reinforcement Neural Networks\\PlayCheckers.ipynb Cell 26'\u001b[0m in \u001b[0;36m<module>\u001b[1;34m\u001b[0m\n\u001b[1;32m----> <a href='vscode-notebook-cell:/c%3A/Users/kaosi/OneDrive/Documents/Data/Learning%20Projects/Reinforcement%20Neural%20Networks/PlayCheckers.ipynb#ch0000016?line=0'>1</a>\u001b[0m \u001b[39massert\u001b[39;00m np\u001b[39m.\u001b[39marray_equal(game\u001b[39m.\u001b[39mvalid_moves(game\u001b[39m.\u001b[39mgameboard, player1), [(\u001b[39m17\u001b[39m, \u001b[39m24\u001b[39m), (\u001b[39m17\u001b[39m, \u001b[39m26\u001b[39m), (\u001b[39m19\u001b[39m, \u001b[39m26\u001b[39m), (\u001b[39m19\u001b[39m, \u001b[39m28\u001b[39m), (\u001b[39m21\u001b[39m, \u001b[39m28\u001b[39m), (\u001b[39m21\u001b[39m, \u001b[39m30\u001b[39m), (\u001b[39m23\u001b[39m, \u001b[39m30\u001b[39m)])\n",
      "\u001b[1;31mAssertionError\u001b[0m: "
     ]
    }
   ],
   "source": [
    "assert np.array_equal(game.valid_moves(game.gameboard, player1), [(17, 24), (17, 26), (19, 26), (19, 28), (21, 28), (21, 30), (23, 30)])\n",
    "# assert np.array_equal(game.valid_moves(game.gameboard, player2), [1, 2, 3, 4, 5, 6, 7, 8, 9])"
   ]
  },
  {
   "cell_type": "markdown",
   "metadata": {},
   "source": [
    "### Printouts"
   ]
  },
  {
   "cell_type": "code",
   "execution_count": 7,
   "metadata": {},
   "outputs": [
    {
     "name": "stdout",
     "output_type": "stream",
     "text": [
      "None made the last move\n",
      "R: []\n",
      "B: []\n"
     ]
    }
   ],
   "source": [
    "def print_valid(game):\n",
    "    state = game.get_game_state()\n",
    "    print(f\"{game.previous_player} made the last move\")\n",
    "    print(f\"{player1}: {game.valid_moves(state, player1)}\")\n",
    "    print(f\"{player2}: {game.valid_moves(state, player2)}\")\n",
    "\n",
    "print_valid(game)"
   ]
  },
  {
   "cell_type": "code",
   "execution_count": 7,
   "metadata": {},
   "outputs": [
    {
     "name": "stdout",
     "output_type": "stream",
     "text": [
      "X won: False\n",
      "O won: False\n",
      "Game is a draw: False\n",
      "No More moves: False\n",
      "Game is over: False\n",
      "Next player: None\n"
     ]
    }
   ],
   "source": [
    "def print_game_conditions(game):\n",
    "    print(f\"{player1} won: {game.victory_condition(player1)}\")\n",
    "    print(f\"{player2} won: {game.victory_condition(player2)}\")\n",
    "    print(f\"Game is a draw: {game.draw_condition()}\")\n",
    "    print(f\"No More moves: {game.no_more_moves()}\")\n",
    "    print(f\"Game is over: {game.game_is_over()}\")\n",
    "    print(f\"Next player: {game.get_next_player()}\")\n",
    "\n",
    "print_game_conditions(game)"
   ]
  },
  {
   "cell_type": "code",
   "execution_count": 8,
   "metadata": {},
   "outputs": [
    {
     "name": "stdout",
     "output_type": "stream",
     "text": [
      "\n",
      " | | \n",
      "—————\n",
      " | | \n",
      "—————\n",
      " | | \n",
      "\n",
      "None made the last move\n",
      "X: [1, 2, 3, 4, 5, 6, 7, 8, 9]\n",
      "O: [1, 2, 3, 4, 5, 6, 7, 8, 9]\n",
      "X won: False\n",
      "O won: False\n",
      "Game is a draw: False\n",
      "No More moves: False\n",
      "Game is over: False\n",
      "Next player: None\n"
     ]
    }
   ],
   "source": [
    "def print_test_conditions(game):\n",
    "    game.print_board()\n",
    "    print_valid(game)\n",
    "    print_game_conditions(game)\n",
    "\n",
    "print_test_conditions(game)\n"
   ]
  },
  {
   "cell_type": "markdown",
   "metadata": {},
   "source": [
    "### Test making moves and resetting the game board"
   ]
  },
  {
   "cell_type": "markdown",
   "metadata": {},
   "source": [
    "Tests a valid move"
   ]
  },
  {
   "cell_type": "code",
   "execution_count": 11,
   "metadata": {},
   "outputs": [],
   "source": [
    "game.reset_game()\n",
    "assert np.array_equal(game.gameboard, np.array([0] * 9))\n",
    "game.make_move(1,player1)\n",
    "assert np.array_equal(game.gameboard, np.array([1, 0, 0, 0, 0, 0, 0, 0, 0]))\n",
    "assert game.valid_moves(game.gameboard, player1) == []\n",
    "assert np.array_equal(game.valid_moves(game.gameboard, player2), [2, 3, 4, 5, 6, 7, 8, 9])\n",
    "assert game.get_next_player() == player2\n",
    "assert game.victory_condition(player1) == False\n",
    "assert game.victory_condition(player2) == False\n",
    "assert game.defeat_condition(player1) == False\n",
    "assert game.defeat_condition(player2) == False\n",
    "assert game.draw_condition() == False\n",
    "assert game.no_more_moves() == False\n",
    "assert game.game_is_over() == False\n",
    "\n",
    "# print_test_conditions(game)"
   ]
  },
  {
   "cell_type": "markdown",
   "metadata": {},
   "source": [
    "Correct player should not be able to make a move"
   ]
  },
  {
   "cell_type": "code",
   "execution_count": 12,
   "metadata": {},
   "outputs": [],
   "source": [
    "game.make_move(0,player2)\n",
    "assert np.array_equal(game.gameboard, np.array([1, 0, 0, 0, 0, 0, 0, 0, 0]))\n",
    "assert game.valid_moves(game.gameboard, player1) == []\n",
    "assert np.array_equal(game.valid_moves(game.gameboard, player2), [2, 3, 4, 5, 6, 7, 8, 9])\n",
    "assert game.get_next_player() == player2\n",
    "assert game.victory_condition(player1) == False\n",
    "assert game.victory_condition(player2) == False\n",
    "assert game.defeat_condition(player1) == False\n",
    "assert game.defeat_condition(player2) == False\n",
    "assert game.draw_condition() == False\n",
    "assert game.no_more_moves() == False\n",
    "assert game.game_is_over() == False\n",
    "\n",
    "# print_test_conditions(game)"
   ]
  },
  {
   "cell_type": "markdown",
   "metadata": {},
   "source": [
    "Incorrect player should not be able to make a move"
   ]
  },
  {
   "cell_type": "code",
   "execution_count": 13,
   "metadata": {},
   "outputs": [],
   "source": [
    "game.make_move(4,player1)\n",
    "assert np.array_equal(game.gameboard, np.array([1, 0, 0, 0, 0, 0, 0, 0, 0]))\n",
    "assert game.valid_moves(game.gameboard, player1) == []\n",
    "assert np.array_equal(game.valid_moves(game.gameboard, player2), [2, 3, 4, 5, 6, 7, 8, 9])\n",
    "assert game.get_next_player() == player2\n",
    "assert game.victory_condition(player1) == False\n",
    "assert game.victory_condition(player2) == False\n",
    "assert game.defeat_condition(player1) == False\n",
    "assert game.defeat_condition(player2) == False\n",
    "assert game.draw_condition() == False\n",
    "assert game.no_more_moves() == False\n",
    "assert game.game_is_over() == False\n",
    "\n",
    "# print_test_conditions(game)"
   ]
  },
  {
   "cell_type": "markdown",
   "metadata": {},
   "source": [
    "Player should correctly cycle"
   ]
  },
  {
   "cell_type": "code",
   "execution_count": 14,
   "metadata": {},
   "outputs": [],
   "source": [
    "game.make_move(5,player2)\n",
    "assert np.array_equal(game.gameboard, np.array([1, 0, 0, 0, 2, 0, 0, 0, 0]))\n",
    "assert game.valid_moves(game.gameboard, player2) == []\n",
    "assert np.array_equal(game.valid_moves(game.gameboard, player1), [2, 3, 4, 6, 7, 8, 9])\n",
    "assert game.get_next_player() == player1\n",
    "assert game.victory_condition(player1) == False\n",
    "assert game.victory_condition(player2) == False\n",
    "assert game.draw_condition() == False\n",
    "assert game.no_more_moves() == False\n",
    "assert game.game_is_over() == False\n",
    "\n",
    "# print_test_conditions(game)"
   ]
  },
  {
   "cell_type": "markdown",
   "metadata": {},
   "source": [
    "### Testing game play conditions"
   ]
  },
  {
   "cell_type": "markdown",
   "metadata": {},
   "source": [
    "Testing `victory_condition`, `draw_condition`, `defeat_condition`, `no_more_moves`, and `game_is_over`"
   ]
  },
  {
   "cell_type": "code",
   "execution_count": 15,
   "metadata": {},
   "outputs": [],
   "source": [
    "def play_game(game, move_sequence, verbose=False):\n",
    "    game.reset_game()\n",
    "    assert game.game_is_over() == False\n",
    "    # rng = np.random.default_rng()\n",
    "    # player = rng.choice(game.players)[0]\n",
    "    player = player1\n",
    "    if verbose: print_test_conditions(game)\n",
    "    for move in move_sequence:\n",
    "        game.make_move(move, player)\n",
    "        player = game.get_next_player()\n",
    "        if verbose: print_test_conditions(game)"
   ]
  },
  {
   "cell_type": "markdown",
   "metadata": {},
   "source": [
    "X should win, O should lose"
   ]
  },
  {
   "cell_type": "code",
   "execution_count": 16,
   "metadata": {},
   "outputs": [
    {
     "name": "stdout",
     "output_type": "stream",
     "text": [
      "\n",
      "X| |O\n",
      "—————\n",
      " |X|O\n",
      "—————\n",
      " | |X\n",
      "\n",
      "X made the last move\n",
      "X: []\n",
      "O: [2, 4, 7, 8]\n",
      "X won: True\n",
      "O won: False\n",
      "Game is a draw: False\n",
      "No More moves: False\n",
      "Game is over: True\n",
      "Next player: O\n"
     ]
    }
   ],
   "source": [
    "test_game1 = [1,6,5,3,9]\n",
    "\n",
    "play_game(game, test_game1)\n",
    "assert np.array_equal(game.gameboard, np.array([1, 0, 2, 0, 1, 2, 0, 0, 1]))\n",
    "assert game.victory_condition(player1) == True\n",
    "assert game.victory_condition(player2) == False\n",
    "assert game.defeat_condition(player1) == False\n",
    "assert game.defeat_condition(player2) == True\n",
    "assert game.draw_condition() == False\n",
    "assert game.no_more_moves() == False\n",
    "assert game.game_is_over() == True\n",
    "\n",
    "print_test_conditions(game)"
   ]
  },
  {
   "cell_type": "markdown",
   "metadata": {},
   "source": [
    "A draw"
   ]
  },
  {
   "cell_type": "code",
   "execution_count": 19,
   "metadata": {},
   "outputs": [
    {
     "name": "stdout",
     "output_type": "stream",
     "text": [
      "\n",
      "X|O|X\n",
      "—————\n",
      "X|O|O\n",
      "—————\n",
      "O|X|X\n",
      "\n",
      "X made the last move\n",
      "X: []\n",
      "O: []\n",
      "X won: False\n",
      "O won: False\n",
      "Game is a draw: True\n",
      "No More moves: True\n",
      "Game is over: True\n",
      "Next player: O\n"
     ]
    }
   ],
   "source": [
    "test_game2 = [1,2,3,5,8,6,4,7,9]\n",
    "\n",
    "play_game(game, test_game2)\n",
    "assert np.array_equal(game.gameboard, np.array([1, 2, 1, 1, 2, 2, 2, 1, 1]))\n",
    "assert game.victory_condition(player1) == False\n",
    "assert game.victory_condition(player2) == False\n",
    "assert game.defeat_condition(player1) == False\n",
    "assert game.defeat_condition(player2) == False\n",
    "assert game.draw_condition() == True\n",
    "assert game.no_more_moves() == True\n",
    "assert game.game_is_over() == True\n",
    "\n",
    "print_test_conditions(game)"
   ]
  },
  {
   "cell_type": "markdown",
   "metadata": {},
   "source": [
    "### Visual representation of game play"
   ]
  },
  {
   "cell_type": "markdown",
   "metadata": {},
   "source": [
    "A random action choice generator"
   ]
  },
  {
   "cell_type": "code",
   "execution_count": 20,
   "metadata": {},
   "outputs": [],
   "source": [
    "def random_action(game, player):\n",
    "    actions = game.valid_moves(game.gameboard, player)\n",
    "    if len(actions) > 0:\n",
    "        rng = np.random.default_rng()\n",
    "        return rng.choice(actions)\n",
    "    else:\n",
    "        return None\n",
    "\n",
    "assert random_action(game, player2) == None\n",
    "game.reset_game()\n",
    "assert random_action(game, player2) is not None"
   ]
  },
  {
   "cell_type": "markdown",
   "metadata": {},
   "source": [
    "Plays a single game with random moves"
   ]
  },
  {
   "cell_type": "code",
   "execution_count": 21,
   "metadata": {},
   "outputs": [
    {
     "name": "stdout",
     "output_type": "stream",
     "text": [
      "O wins\n",
      "\n",
      " |X|O\n",
      "—————\n",
      "X|O|O\n",
      "—————\n",
      "X|X|O\n",
      "\n"
     ]
    },
    {
     "data": {
      "text/plain": [
       "'O'"
      ]
     },
     "execution_count": 21,
     "metadata": {},
     "output_type": "execute_result"
    }
   ],
   "source": [
    "def play_random_moves(game, verbose=True):\n",
    "    game.reset_game()\n",
    "    rng = np.random.default_rng()\n",
    "    player = rng.choice(game.players)[0]\n",
    "    while not game.game_is_over():\n",
    "        move = random_action(game, player)\n",
    "        game.make_move(move, player)\n",
    "        player = game.get_next_player()\n",
    "    winner = None\n",
    "    if game.draw_condition():\n",
    "        if verbose: print(\"Game is a draw\")\n",
    "    else:\n",
    "        winner = player1 if game.victory_condition(player1) else player2\n",
    "        if verbose: print(f\"{winner} wins\")\n",
    "    if verbose: game.print_board()\n",
    "    return winner\n",
    "\n",
    "play_random_moves(game)"
   ]
  },
  {
   "cell_type": "markdown",
   "metadata": {},
   "source": [
    "Sampling many game runs"
   ]
  },
  {
   "cell_type": "code",
   "execution_count": 22,
   "metadata": {},
   "outputs": [
    {
     "name": "stdout",
     "output_type": "stream",
     "text": [
      "X wins: 427\n",
      "O wins: 435\n",
      "draws: 138\n"
     ]
    }
   ],
   "source": [
    "winners = []\n",
    "for i in range(1000):\n",
    "    winners.append(play_random_moves(game, False))\n",
    "\n",
    "print(f\"X wins: {winners.count(player1)}\")\n",
    "print(f\"O wins: {winners.count(player2)}\")\n",
    "print(f\"draws: {winners.count(None)}\")\n"
   ]
  }
 ],
 "metadata": {
  "interpreter": {
   "hash": "8e284ee3255a07ad8bf76694974743c4c81cb57e7c969474d752d949b11d721e"
  },
  "kernelspec": {
   "display_name": "Python 3.9.13 64-bit",
   "language": "python",
   "name": "python3"
  },
  "language_info": {
   "codemirror_mode": {
    "name": "ipython",
    "version": 3
   },
   "file_extension": ".py",
   "mimetype": "text/x-python",
   "name": "python",
   "nbconvert_exporter": "python",
   "pygments_lexer": "ipython3",
   "version": "3.9.13"
  },
  "orig_nbformat": 4
 },
 "nbformat": 4,
 "nbformat_minor": 2
}
