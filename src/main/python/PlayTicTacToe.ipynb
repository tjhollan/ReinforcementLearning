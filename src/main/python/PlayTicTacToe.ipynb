{
 "cells": [
  {
   "cell_type": "markdown",
   "metadata": {},
   "source": [
    "# Test the tic tac toe game class"
   ]
  },
  {
   "cell_type": "markdown",
   "metadata": {},
   "source": [
    "## Export the class to a file"
   ]
  },
  {
   "cell_type": "code",
   "execution_count": 1,
   "metadata": {},
   "outputs": [
    {
     "name": "stdout",
     "output_type": "stream",
     "text": [
      "Overwriting tictactoe.py\n"
     ]
    }
   ],
   "source": [
    "%%writefile tictactoe.py\n",
    "import numpy as np\n",
    "import copy\n",
    "\n",
    "##########################\n",
    "# Tic Tac Toe game board #\n",
    "##########################\n",
    "\n",
    "class Game():\n",
    "\n",
    "    def __init__(self):\n",
    "        self.empty_space = 0\n",
    "        self.players = ['X', 'O']\n",
    "        self.player_values = {'X': 1, 'O': 2}\n",
    "        self.reset_game()\n",
    "\n",
    "    def reset_game(self):\n",
    "        # Sets all board positions to 0\n",
    "        self.gameboard = np.array([self.empty_space] * 9)\n",
    "        # Sets the previous player value to empty\n",
    "        self.previous_player = None\n",
    "    \n",
    "    def valid_moves(self, state, player = None):\n",
    "        if player == self.previous_player:\n",
    "            return []\n",
    "        else:\n",
    "            return [x+1 for x in np.where(state == self.empty_space)[0]]\n",
    "       \n",
    "    def make_move(self, move, player):\n",
    "        if move in self.valid_moves(self.gameboard, player):\n",
    "            # Sets the value at the move position to the player value\n",
    "            self.gameboard[move-1] = self.player_values[player]\n",
    "            self.previous_player = player\n",
    "    \n",
    "    def get_game_state(self):\n",
    "        # Returns a copy of the game board\n",
    "        return copy.deepcopy(self.gameboard)\n",
    "\n",
    "    def get_next_player(self):\n",
    "        if self.previous_player is None:\n",
    "            return None\n",
    "        return self.players[0] if self.previous_player == self.players[1] else self.players[1]\n",
    "\n",
    "    def no_more_moves(self):\n",
    "        # Checks for valid moves to make\n",
    "        for player in self.players:\n",
    "            if len(self.valid_moves(self.gameboard, player)) > 0:\n",
    "                return False\n",
    "        return True\n",
    "\n",
    "    def victory_condition(self, player):\n",
    "        # A list of all victory conditions in groups of three\n",
    "        combos = np.array((0,1,2, 3,4,5, 6,7,8, 0,3,6, 1,4,7, 2,5,8, 0,4,8, 2,4,6))\n",
    "        # Returns true if the player has any of the winning combinations\n",
    "        return np.any(np.all(self.player_values[player] == self.gameboard[combos].reshape((-1, 3)), axis=1))\n",
    "\n",
    "    def defeat_condition(self, test_player):\n",
    "        for player in self.players:\n",
    "            if player != test_player and self.victory_condition(player):\n",
    "                return True\n",
    "        return False\n",
    "    \n",
    "    def draw_condition(self):\n",
    "        # Check for a winner\n",
    "        for player in self.players:\n",
    "            if self.victory_condition(player):\n",
    "                return False\n",
    "        # Check for no more moves\n",
    "        return self.no_more_moves()\n",
    "    \n",
    "    def game_is_over(self):\n",
    "        # The game is over if a player meets a victory condition or there are no more \n",
    "        # valid moves\n",
    "        return self.victory_condition(self.players[0]) or self.victory_condition(self.players[1]) or self.no_more_moves()\n",
    "    \n",
    "    def print_board(self):\n",
    "        display = {self.empty_space: ' ', self.player_values[self.players[0]]: 'X', self.player_values[self.players[1]]: 'O'}\n",
    "        print()\n",
    "        print(f\"{display[self.gameboard[0]]}|{display[self.gameboard[1]]}|{display[self.gameboard[2]]}\")\n",
    "        print(f\"—————\")\n",
    "        print(f\"{display[self.gameboard[3]]}|{display[self.gameboard[4]]}|{display[self.gameboard[5]]}\")\n",
    "        print(f\"—————\")\n",
    "        print(f\"{display[self.gameboard[6]]}|{display[self.gameboard[7]]}|{display[self.gameboard[8]]}\")\n",
    "        print()\n"
   ]
  },
  {
   "cell_type": "markdown",
   "metadata": {},
   "source": [
    "## Testing"
   ]
  },
  {
   "cell_type": "code",
   "execution_count": 2,
   "metadata": {},
   "outputs": [],
   "source": [
    "import tictactoe\n",
    "import numpy as np"
   ]
  },
  {
   "cell_type": "markdown",
   "metadata": {},
   "source": [
    "### Initialization tests"
   ]
  },
  {
   "cell_type": "code",
   "execution_count": 3,
   "metadata": {},
   "outputs": [
    {
     "name": "stdout",
     "output_type": "stream",
     "text": [
      "\n",
      " | | \n",
      "—————\n",
      " | | \n",
      "—————\n",
      " | | \n",
      "\n"
     ]
    }
   ],
   "source": [
    "game = tictactoe.Game()\n",
    "assert np.array_equal(game.gameboard, np.array([0] * 9))\n",
    "game.print_board()"
   ]
  },
  {
   "cell_type": "code",
   "execution_count": 5,
   "metadata": {},
   "outputs": [],
   "source": [
    "assert len(game.players) == 2\n",
    "player1 = game.players[0]\n",
    "assert player1 == 'X'\n",
    "player2 = game.players[1]\n",
    "assert player2 == 'O'\n",
    "\n",
    "assert game.empty_space == 0\n",
    "assert game.previous_player == None\n",
    "assert game.valid_moves(game.gameboard) == []\n",
    "assert np.array_equal(game.valid_moves(game.gameboard, player1), [1, 2, 3, 4, 5, 6, 7, 8, 9])\n",
    "assert np.array_equal(game.valid_moves(game.gameboard, player2), [1, 2, 3, 4, 5, 6, 7, 8, 9])\n",
    "assert game.get_next_player() == None\n",
    "assert game.no_more_moves() == False\n",
    "assert game.victory_condition(player1) == False\n",
    "assert game.victory_condition(player2) == False\n",
    "assert game.defeat_condition(player1) == False\n",
    "assert game.defeat_condition(player2) == False\n",
    "assert game.draw_condition() == False\n",
    "assert game.game_is_over() == False"
   ]
  },
  {
   "cell_type": "markdown",
   "metadata": {},
   "source": [
    "### Printouts"
   ]
  },
  {
   "cell_type": "code",
   "execution_count": 6,
   "metadata": {},
   "outputs": [
    {
     "name": "stdout",
     "output_type": "stream",
     "text": [
      "None made the last move\n",
      "X: [1, 2, 3, 4, 5, 6, 7, 8, 9]\n",
      "O: [1, 2, 3, 4, 5, 6, 7, 8, 9]\n"
     ]
    }
   ],
   "source": [
    "def print_valid(game):\n",
    "    state = game.get_game_state()\n",
    "    print(f\"{game.previous_player} made the last move\")\n",
    "    print(f\"{player1}: {game.valid_moves(state, player1)}\")\n",
    "    print(f\"{player2}: {game.valid_moves(state, player2)}\")\n",
    "\n",
    "print_valid(game)"
   ]
  },
  {
   "cell_type": "code",
   "execution_count": 7,
   "metadata": {},
   "outputs": [
    {
     "name": "stdout",
     "output_type": "stream",
     "text": [
      "X won: False\n",
      "O won: False\n",
      "Game is a draw: False\n",
      "No More moves: False\n",
      "Game is over: False\n",
      "Next player: None\n"
     ]
    }
   ],
   "source": [
    "def print_game_conditions(game):\n",
    "    print(f\"{player1} won: {game.victory_condition(player1)}\")\n",
    "    print(f\"{player2} won: {game.victory_condition(player2)}\")\n",
    "    print(f\"Game is a draw: {game.draw_condition()}\")\n",
    "    print(f\"No More moves: {game.no_more_moves()}\")\n",
    "    print(f\"Game is over: {game.game_is_over()}\")\n",
    "    print(f\"Next player: {game.get_next_player()}\")\n",
    "\n",
    "print_game_conditions(game)"
   ]
  },
  {
   "cell_type": "code",
   "execution_count": 8,
   "metadata": {},
   "outputs": [
    {
     "name": "stdout",
     "output_type": "stream",
     "text": [
      "\n",
      " | | \n",
      "—————\n",
      " | | \n",
      "—————\n",
      " | | \n",
      "\n",
      "None made the last move\n",
      "X: [1, 2, 3, 4, 5, 6, 7, 8, 9]\n",
      "O: [1, 2, 3, 4, 5, 6, 7, 8, 9]\n",
      "X won: False\n",
      "O won: False\n",
      "Game is a draw: False\n",
      "No More moves: False\n",
      "Game is over: False\n",
      "Next player: None\n"
     ]
    }
   ],
   "source": [
    "def print_test_conditions(game):\n",
    "    game.print_board()\n",
    "    print_valid(game)\n",
    "    print_game_conditions(game)\n",
    "\n",
    "print_test_conditions(game)\n"
   ]
  },
  {
   "cell_type": "markdown",
   "metadata": {},
   "source": [
    "### Test making moves and resetting the game board"
   ]
  },
  {
   "cell_type": "markdown",
   "metadata": {},
   "source": [
    "Tests a valid move"
   ]
  },
  {
   "cell_type": "code",
   "execution_count": 11,
   "metadata": {},
   "outputs": [],
   "source": [
    "game.reset_game()\n",
    "assert np.array_equal(game.gameboard, np.array([0] * 9))\n",
    "game.make_move(1,player1)\n",
    "assert np.array_equal(game.gameboard, np.array([1, 0, 0, 0, 0, 0, 0, 0, 0]))\n",
    "assert game.valid_moves(game.gameboard, player1) == []\n",
    "assert np.array_equal(game.valid_moves(game.gameboard, player2), [2, 3, 4, 5, 6, 7, 8, 9])\n",
    "assert game.get_next_player() == player2\n",
    "assert game.victory_condition(player1) == False\n",
    "assert game.victory_condition(player2) == False\n",
    "assert game.defeat_condition(player1) == False\n",
    "assert game.defeat_condition(player2) == False\n",
    "assert game.draw_condition() == False\n",
    "assert game.no_more_moves() == False\n",
    "assert game.game_is_over() == False\n",
    "\n",
    "# print_test_conditions(game)"
   ]
  },
  {
   "cell_type": "markdown",
   "metadata": {},
   "source": [
    "Correct player should not be able to make a move"
   ]
  },
  {
   "cell_type": "code",
   "execution_count": 12,
   "metadata": {},
   "outputs": [],
   "source": [
    "game.make_move(0,player2)\n",
    "assert np.array_equal(game.gameboard, np.array([1, 0, 0, 0, 0, 0, 0, 0, 0]))\n",
    "assert game.valid_moves(game.gameboard, player1) == []\n",
    "assert np.array_equal(game.valid_moves(game.gameboard, player2), [2, 3, 4, 5, 6, 7, 8, 9])\n",
    "assert game.get_next_player() == player2\n",
    "assert game.victory_condition(player1) == False\n",
    "assert game.victory_condition(player2) == False\n",
    "assert game.defeat_condition(player1) == False\n",
    "assert game.defeat_condition(player2) == False\n",
    "assert game.draw_condition() == False\n",
    "assert game.no_more_moves() == False\n",
    "assert game.game_is_over() == False\n",
    "\n",
    "# print_test_conditions(game)"
   ]
  },
  {
   "cell_type": "markdown",
   "metadata": {},
   "source": [
    "Incorrect player should not be able to make a move"
   ]
  },
  {
   "cell_type": "code",
   "execution_count": 13,
   "metadata": {},
   "outputs": [],
   "source": [
    "game.make_move(4,player1)\n",
    "assert np.array_equal(game.gameboard, np.array([1, 0, 0, 0, 0, 0, 0, 0, 0]))\n",
    "assert game.valid_moves(game.gameboard, player1) == []\n",
    "assert np.array_equal(game.valid_moves(game.gameboard, player2), [2, 3, 4, 5, 6, 7, 8, 9])\n",
    "assert game.get_next_player() == player2\n",
    "assert game.victory_condition(player1) == False\n",
    "assert game.victory_condition(player2) == False\n",
    "assert game.defeat_condition(player1) == False\n",
    "assert game.defeat_condition(player2) == False\n",
    "assert game.draw_condition() == False\n",
    "assert game.no_more_moves() == False\n",
    "assert game.game_is_over() == False\n",
    "\n",
    "# print_test_conditions(game)"
   ]
  },
  {
   "cell_type": "markdown",
   "metadata": {},
   "source": [
    "Player should correctly cycle"
   ]
  },
  {
   "cell_type": "code",
   "execution_count": 14,
   "metadata": {},
   "outputs": [],
   "source": [
    "game.make_move(5,player2)\n",
    "assert np.array_equal(game.gameboard, np.array([1, 0, 0, 0, 2, 0, 0, 0, 0]))\n",
    "assert game.valid_moves(game.gameboard, player2) == []\n",
    "assert np.array_equal(game.valid_moves(game.gameboard, player1), [2, 3, 4, 6, 7, 8, 9])\n",
    "assert game.get_next_player() == player1\n",
    "assert game.victory_condition(player1) == False\n",
    "assert game.victory_condition(player2) == False\n",
    "assert game.draw_condition() == False\n",
    "assert game.no_more_moves() == False\n",
    "assert game.game_is_over() == False\n",
    "\n",
    "# print_test_conditions(game)"
   ]
  },
  {
   "cell_type": "markdown",
   "metadata": {},
   "source": [
    "### Testing game play conditions"
   ]
  },
  {
   "cell_type": "markdown",
   "metadata": {},
   "source": [
    "Testing `victory_condition`, `draw_condition`, `defeat_condition`, `no_more_moves`, and `game_is_over`"
   ]
  },
  {
   "cell_type": "code",
   "execution_count": 15,
   "metadata": {},
   "outputs": [],
   "source": [
    "def play_game(game, move_sequence, verbose=False):\n",
    "    game.reset_game()\n",
    "    assert game.game_is_over() == False\n",
    "    # rng = np.random.default_rng()\n",
    "    # player = rng.choice(game.players)[0]\n",
    "    player = player1\n",
    "    if verbose: print_test_conditions(game)\n",
    "    for move in move_sequence:\n",
    "        game.make_move(move, player)\n",
    "        player = game.get_next_player()\n",
    "        if verbose: print_test_conditions(game)"
   ]
  },
  {
   "cell_type": "markdown",
   "metadata": {},
   "source": [
    "X should win, O should lose"
   ]
  },
  {
   "cell_type": "code",
   "execution_count": 16,
   "metadata": {},
   "outputs": [
    {
     "name": "stdout",
     "output_type": "stream",
     "text": [
      "\n",
      "X| |O\n",
      "—————\n",
      " |X|O\n",
      "—————\n",
      " | |X\n",
      "\n",
      "X made the last move\n",
      "X: []\n",
      "O: [2, 4, 7, 8]\n",
      "X won: True\n",
      "O won: False\n",
      "Game is a draw: False\n",
      "No More moves: False\n",
      "Game is over: True\n",
      "Next player: O\n"
     ]
    }
   ],
   "source": [
    "test_game1 = [1,6,5,3,9]\n",
    "\n",
    "play_game(game, test_game1)\n",
    "assert np.array_equal(game.gameboard, np.array([1, 0, 2, 0, 1, 2, 0, 0, 1]))\n",
    "assert game.victory_condition(player1) == True\n",
    "assert game.victory_condition(player2) == False\n",
    "assert game.defeat_condition(player1) == False\n",
    "assert game.defeat_condition(player2) == True\n",
    "assert game.draw_condition() == False\n",
    "assert game.no_more_moves() == False\n",
    "assert game.game_is_over() == True\n",
    "\n",
    "print_test_conditions(game)"
   ]
  },
  {
   "cell_type": "markdown",
   "metadata": {},
   "source": [
    "A draw"
   ]
  },
  {
   "cell_type": "code",
   "execution_count": 19,
   "metadata": {},
   "outputs": [
    {
     "name": "stdout",
     "output_type": "stream",
     "text": [
      "\n",
      "X|O|X\n",
      "—————\n",
      "X|O|O\n",
      "—————\n",
      "O|X|X\n",
      "\n",
      "X made the last move\n",
      "X: []\n",
      "O: []\n",
      "X won: False\n",
      "O won: False\n",
      "Game is a draw: True\n",
      "No More moves: True\n",
      "Game is over: True\n",
      "Next player: O\n"
     ]
    }
   ],
   "source": [
    "test_game2 = [1,2,3,5,8,6,4,7,9]\n",
    "\n",
    "play_game(game, test_game2)\n",
    "assert np.array_equal(game.gameboard, np.array([1, 2, 1, 1, 2, 2, 2, 1, 1]))\n",
    "assert game.victory_condition(player1) == False\n",
    "assert game.victory_condition(player2) == False\n",
    "assert game.defeat_condition(player1) == False\n",
    "assert game.defeat_condition(player2) == False\n",
    "assert game.draw_condition() == True\n",
    "assert game.no_more_moves() == True\n",
    "assert game.game_is_over() == True\n",
    "\n",
    "print_test_conditions(game)"
   ]
  },
  {
   "cell_type": "markdown",
   "metadata": {},
   "source": [
    "### Visual representation of game play"
   ]
  },
  {
   "cell_type": "markdown",
   "metadata": {},
   "source": [
    "A random action choice generator"
   ]
  },
  {
   "cell_type": "code",
   "execution_count": 20,
   "metadata": {},
   "outputs": [],
   "source": [
    "def random_action(game, player):\n",
    "    actions = game.valid_moves(game.gameboard, player)\n",
    "    if len(actions) > 0:\n",
    "        rng = np.random.default_rng()\n",
    "        return rng.choice(actions)\n",
    "    else:\n",
    "        return None\n",
    "\n",
    "assert random_action(game, player2) == None\n",
    "game.reset_game()\n",
    "assert random_action(game, player2) is not None"
   ]
  },
  {
   "cell_type": "markdown",
   "metadata": {},
   "source": [
    "Plays a single game with random moves"
   ]
  },
  {
   "cell_type": "code",
   "execution_count": 21,
   "metadata": {},
   "outputs": [
    {
     "name": "stdout",
     "output_type": "stream",
     "text": [
      "O wins\n",
      "\n",
      " |X|O\n",
      "—————\n",
      "X|O|O\n",
      "—————\n",
      "X|X|O\n",
      "\n"
     ]
    },
    {
     "data": {
      "text/plain": [
       "'O'"
      ]
     },
     "execution_count": 21,
     "metadata": {},
     "output_type": "execute_result"
    }
   ],
   "source": [
    "def play_random_moves(game, verbose=True):\n",
    "    game.reset_game()\n",
    "    rng = np.random.default_rng()\n",
    "    player = rng.choice(game.players)[0]\n",
    "    while not game.game_is_over():\n",
    "        move = random_action(game, player)\n",
    "        game.make_move(move, player)\n",
    "        player = game.get_next_player()\n",
    "    winner = None\n",
    "    if game.draw_condition():\n",
    "        if verbose: print(\"Game is a draw\")\n",
    "    else:\n",
    "        winner = player1 if game.victory_condition(player1) else player2\n",
    "        if verbose: print(f\"{winner} wins\")\n",
    "    if verbose: game.print_board()\n",
    "    return winner\n",
    "\n",
    "play_random_moves(game)"
   ]
  },
  {
   "cell_type": "markdown",
   "metadata": {},
   "source": [
    "Sampling many game runs"
   ]
  },
  {
   "cell_type": "code",
   "execution_count": 22,
   "metadata": {},
   "outputs": [
    {
     "name": "stdout",
     "output_type": "stream",
     "text": [
      "X wins: 427\n",
      "O wins: 435\n",
      "draws: 138\n"
     ]
    }
   ],
   "source": [
    "winners = []\n",
    "for i in range(1000):\n",
    "    winners.append(play_random_moves(game, False))\n",
    "\n",
    "print(f\"X wins: {winners.count(player1)}\")\n",
    "print(f\"O wins: {winners.count(player2)}\")\n",
    "print(f\"draws: {winners.count(None)}\")\n"
   ]
  }
 ],
 "metadata": {
  "interpreter": {
   "hash": "8e284ee3255a07ad8bf76694974743c4c81cb57e7c969474d752d949b11d721e"
  },
  "kernelspec": {
   "display_name": "Python 3.9.13 64-bit",
   "language": "python",
   "name": "python3"
  },
  "language_info": {
   "codemirror_mode": {
    "name": "ipython",
    "version": 3
   },
   "file_extension": ".py",
   "mimetype": "text/x-python",
   "name": "python",
   "nbconvert_exporter": "python",
   "pygments_lexer": "ipython3",
   "version": "3.9.13"
  },
  "orig_nbformat": 4
 },
 "nbformat": 4,
 "nbformat_minor": 2
}
